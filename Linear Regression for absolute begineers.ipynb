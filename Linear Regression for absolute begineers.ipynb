{
 "cells": [
  {
   "cell_type": "code",
   "execution_count": 2,
   "metadata": {},
   "outputs": [],
   "source": [
    "import pandas as pd\n",
    "import matplotlib.pyplot as plt\n",
    "import numpy as np"
   ]
  },
  {
   "cell_type": "code",
   "execution_count": 3,
   "metadata": {},
   "outputs": [
    {
     "data": {
      "text/html": [
       "<div>\n",
       "<style scoped>\n",
       "    .dataframe tbody tr th:only-of-type {\n",
       "        vertical-align: middle;\n",
       "    }\n",
       "\n",
       "    .dataframe tbody tr th {\n",
       "        vertical-align: top;\n",
       "    }\n",
       "\n",
       "    .dataframe thead th {\n",
       "        text-align: right;\n",
       "    }\n",
       "</style>\n",
       "<table border=\"1\" class=\"dataframe\">\n",
       "  <thead>\n",
       "    <tr style=\"text-align: right;\">\n",
       "      <th></th>\n",
       "      <th>size</th>\n",
       "      <th>price</th>\n",
       "    </tr>\n",
       "  </thead>\n",
       "  <tbody>\n",
       "    <tr>\n",
       "      <td>0</td>\n",
       "      <td>2104</td>\n",
       "      <td>399900</td>\n",
       "    </tr>\n",
       "    <tr>\n",
       "      <td>1</td>\n",
       "      <td>1600</td>\n",
       "      <td>329900</td>\n",
       "    </tr>\n",
       "    <tr>\n",
       "      <td>2</td>\n",
       "      <td>2400</td>\n",
       "      <td>369000</td>\n",
       "    </tr>\n",
       "    <tr>\n",
       "      <td>3</td>\n",
       "      <td>1416</td>\n",
       "      <td>232000</td>\n",
       "    </tr>\n",
       "    <tr>\n",
       "      <td>4</td>\n",
       "      <td>3000</td>\n",
       "      <td>539900</td>\n",
       "    </tr>\n",
       "  </tbody>\n",
       "</table>\n",
       "</div>"
      ],
      "text/plain": [
       "   size   price\n",
       "0  2104  399900\n",
       "1  1600  329900\n",
       "2  2400  369000\n",
       "3  1416  232000\n",
       "4  3000  539900"
      ]
     },
     "execution_count": 3,
     "metadata": {},
     "output_type": "execute_result"
    }
   ],
   "source": [
    "housing_data =  pd.read_csv('ex1data2.txt', usecols = [0,2],names=['size','price'])\n",
    "#(we got this housing data from coursera-machine-learning-course-ex1)\n",
    "housing_data.head()"
   ]
  },
  {
   "cell_type": "code",
   "execution_count": 4,
   "metadata": {},
   "outputs": [
    {
     "name": "stdout",
     "output_type": "stream",
     "text": [
      "intercept_term(theta0): 68.12351315549327 \n",
      " bias_term(theta1): 135.9217432231492\n"
     ]
    }
   ],
   "source": [
    "def gradient_descent(alpha, n_iters):\n",
    "    X = housing_data['size'].values/1000\n",
    "    y = housing_data['price'].values/1000\n",
    "    m=len(X)\n",
    "    theta0 = 0\n",
    "    theta1 = 0\n",
    "    for _ in range(n_iters):     \n",
    "        d_theta0 = []\n",
    "        d_theta1 = []\n",
    "        for i in range(m):\n",
    "            d_theta0.append((theta0+theta1*X[i])-y[i])\n",
    "            d_theta1.append(((theta0+theta1*X[i])-y[i])*X[i])\n",
    "            \n",
    "        theta0 = theta0-alpha*(1/m)*sum(d_theta0)    \n",
    "        theta1 = theta1-alpha*(1/m)*sum(d_theta1)       \n",
    "        \n",
    "    return theta0,theta1\n",
    "theta0,theta1 = gradient_descent(0.01,1000)\n",
    "print('intercept_term(theta0):',theta0,'\\n','bias_term(theta1):',theta1)"
   ]
  },
  {
   "cell_type": "code",
   "execution_count": 6,
   "metadata": {},
   "outputs": [
    {
     "data": {
      "text/plain": [
       "(0.0, 700.0)"
      ]
     },
     "execution_count": 6,
     "metadata": {},
     "output_type": "execute_result"
    },
    {
     "data": {
      "image/png": "[encoded data removed]",
      "text/plain": [
       "<Figure size 576x432 with 1 Axes>"
      ]
     },
     "metadata": {
      "needs_background": "light"
     },
     "output_type": "display_data"
    }
   ],
   "source": [
    "hypothesis = theta0+np.dot(theta1,[0,4])\n",
    "x=[0,4]\n",
    "%matplotlib inline\n",
    "plt.figure(figsize=(8,6))\n",
    "plt.scatter(housing_data['size']/1000,housing_data['price']/1000, c='g',marker='x',s=70, alpha=0.7);\n",
    "plt.plot(x,hypothesis, c='r')\n",
    "plt.xlabel('Size (feet$^2$)x1000',size=15)\n",
    "plt.ylabel('Price (in 1000s of dollars)', size=13)\n",
    "plt.title('Housing Prices',size=13)\n",
    "plt.plot()\n",
    "plt.xlim(0,4)\n",
    "plt.ylim(0,700)\n"
   ]
  },
  {
   "cell_type": "code",
   "execution_count": 7,
   "metadata": {},
   "outputs": [
    {
     "data": {
      "text/plain": [
       "475.8887428249409"
      ]
     },
     "execution_count": 7,
     "metadata": {},
     "output_type": "execute_result"
    }
   ],
   "source": [
    "def predict(X):\n",
    "    return theta0 + theta1*X\n",
    "predict(3)"
   ]
  },
  {
   "cell_type": "code",
   "execution_count": null,
   "metadata": {},
   "outputs": [],
   "source": []
  }
 ],
 "metadata": {
  "kernelspec": {
   "display_name": "Python 3",
   "language": "python",
   "name": "python3"
  },
  "language_info": {
   "codemirror_mode": {
    "name": "ipython",
    "version": 3
   },
   "file_extension": ".py",
   "mimetype": "text/x-python",
   "name": "python",
   "nbconvert_exporter": "python",
   "pygments_lexer": "ipython3",
   "version": "3.7.4"
  }
 },
 "nbformat": 4,
 "nbformat_minor": 2
}
